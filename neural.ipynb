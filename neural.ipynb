{
  "nbformat": 4,
  "nbformat_minor": 0,
  "metadata": {
    "colab": {
      "provenance": []
    },
    "kernelspec": {
      "name": "python3",
      "display_name": "Python 3"
    },
    "language_info": {
      "name": "python"
    }
  },
  "cells": [
    {
      "cell_type": "code",
      "execution_count": 106,
      "metadata": {
        "id": "OgXFw50m2Rxn"
      },
      "outputs": [],
      "source": [
        "import matplotlib.pyplot as plt\n",
        "import keras\n",
        "from keras.datasets import mnist "
      ]
    },
    {
      "cell_type": "code",
      "source": [
        "(xtrain,ytrain),(xtest,ytest)=mnist.load_data()"
      ],
      "metadata": {
        "id": "57NBL0Jg2Y24"
      },
      "execution_count": 86,
      "outputs": []
    },
    {
      "cell_type": "code",
      "source": [
        "for i in range(10):\n",
        "  plt.subplot(10,2,i+1)\n",
        "  plt.imshow(xtrain[i],cmap=\"Greys\")\n",
        "  plt.axis('off')\n",
        "  plt.show()"
      ],
      "metadata": {
        "colab": {
          "base_uri": "https://localhost:8080/",
          "height": 337
        },
        "id": "Rs2zBZDl2vje",
        "outputId": "f6188527-991a-487f-867b-20e43ca2aeb4"
      },
      "execution_count": 92,
      "outputs": [
        {
          "output_type": "display_data",
          "data": {
            "text/plain": [
              "<Figure size 432x288 with 1 Axes>"
            ],
            "image/png": "[encoded data removed]"
          },
          "metadata": {
            "needs_background": "light"
          }
        },
        {
          "output_type": "display_data",
          "data": {
            "text/plain": [
              "<Figure size 432x288 with 1 Axes>"
            ],
            "image/png": "[encoded data removed]"
          },
          "metadata": {
            "needs_background": "light"
          }
        },
        {
          "output_type": "display_data",
          "data": {
            "text/plain": [
              "<Figure size 432x288 with 1 Axes>"
            ],
            "image/png": "[encoded data removed]"
          },
          "metadata": {
            "needs_background": "light"
          }
        },
        {
          "output_type": "display_data",
          "data": {
            "text/plain": [
              "<Figure size 432x288 with 1 Axes>"
            ],
            "image/png": "[encoded data removed]"
          },
          "metadata": {
            "needs_background": "light"
          }
        },
        {
          "output_type": "display_data",
          "data": {
            "text/plain": [
              "<Figure size 432x288 with 1 Axes>"
            ],
            "image/png": "[encoded data removed]"
          },
          "metadata": {
            "needs_background": "light"
          }
        },
        {
          "output_type": "display_data",
          "data": {
            "text/plain": [
              "<Figure size 432x288 with 1 Axes>"
            ],
            "image/png": "[encoded data removed]"
          },
          "metadata": {
            "needs_background": "light"
          }
        },
        {
          "output_type": "display_data",
          "data": {
            "text/plain": [
              "<Figure size 432x288 with 1 Axes>"
            ],
            "image/png": "[encoded data removed]"
          },
          "metadata": {
            "needs_background": "light"
          }
        },
        {
          "output_type": "display_data",
          "data": {
            "text/plain": [
              "<Figure size 432x288 with 1 Axes>"
            ],
            "image/png": "[encoded data removed]"
          },
          "metadata": {
            "needs_background": "light"
          }
        },
        {
          "output_type": "display_data",
          "data": {
            "text/plain": [
              "<Figure size 432x288 with 1 Axes>"
            ],
            "image/png": "[encoded data removed]"
          },
          "metadata": {
            "needs_background": "light"
          }
        },
        {
          "output_type": "display_data",
          "data": {
            "text/plain": [
              "<Figure size 432x288 with 1 Axes>"
            ],
            "image/png": "[encoded data removed]"
          },
          "metadata": {
            "needs_background": "light"
          }
        }
      ]
    },
    {
      "cell_type": "code",
      "source": [
        "xtrain.shape"
      ],
      "metadata": {
        "colab": {
          "base_uri": "https://localhost:8080/"
        },
        "id": "I2KVt7ql3HKn",
        "outputId": "a248b004-337e-4cc3-ccda-cff109226ca5"
      },
      "execution_count": 23,
      "outputs": [
        {
          "output_type": "execute_result",
          "data": {
            "text/plain": [
              "(60000, 28, 28)"
            ]
          },
          "metadata": {},
          "execution_count": 23
        }
      ]
    },
    {
      "cell_type": "code",
      "source": [
        "xtrain=xtrain.reshape(60000,784,1).astype('float32')"
      ],
      "metadata": {
        "id": "aDyaMBDa6boU"
      },
      "execution_count": 94,
      "outputs": []
    },
    {
      "cell_type": "code",
      "source": [
        "xtrain.shape"
      ],
      "metadata": {
        "colab": {
          "base_uri": "https://localhost:8080/"
        },
        "id": "ENdCI32y7ZPm",
        "outputId": "cff8389a-3cea-4f5c-c6cc-68fd2e81ccab"
      },
      "execution_count": 31,
      "outputs": [
        {
          "output_type": "execute_result",
          "data": {
            "text/plain": [
              "(60000, 784, 1)"
            ]
          },
          "metadata": {},
          "execution_count": 31
        }
      ]
    },
    {
      "cell_type": "code",
      "source": [
        "xtest.shape"
      ],
      "metadata": {
        "colab": {
          "base_uri": "https://localhost:8080/"
        },
        "id": "K_SKyPDq8aIo",
        "outputId": "c7844b03-d67f-4c81-8234-b104401e29de"
      },
      "execution_count": 32,
      "outputs": [
        {
          "output_type": "execute_result",
          "data": {
            "text/plain": [
              "(10000, 28, 28)"
            ]
          },
          "metadata": {},
          "execution_count": 32
        }
      ]
    },
    {
      "cell_type": "code",
      "source": [
        "xtest=xtest.reshape(10000,784,1).astype('float32')"
      ],
      "metadata": {
        "id": "h0brNQzG7uH6"
      },
      "execution_count": 36,
      "outputs": []
    },
    {
      "cell_type": "code",
      "source": [
        "xtest.shape"
      ],
      "metadata": {
        "colab": {
          "base_uri": "https://localhost:8080/"
        },
        "id": "RwBaYk5L8CZO",
        "outputId": "9b80e4bb-7aa2-473d-df82-c0483a495a58"
      },
      "execution_count": 34,
      "outputs": [
        {
          "output_type": "execute_result",
          "data": {
            "text/plain": [
              "(10000, 784, 1)"
            ]
          },
          "metadata": {},
          "execution_count": 34
        }
      ]
    },
    {
      "cell_type": "code",
      "source": [
        "xtest/=255\n",
        "xtrain/=255"
      ],
      "metadata": {
        "id": "5r87l0PE8ngU"
      },
      "execution_count": 37,
      "outputs": []
    },
    {
      "cell_type": "code",
      "source": [
        "xtest.shape"
      ],
      "metadata": {
        "colab": {
          "base_uri": "https://localhost:8080/"
        },
        "id": "MXzx95pl9CCO",
        "outputId": "1353c2de-117c-4497-db70-013f2714077d"
      },
      "execution_count": 38,
      "outputs": [
        {
          "output_type": "execute_result",
          "data": {
            "text/plain": [
              "(10000, 784, 1)"
            ]
          },
          "metadata": {},
          "execution_count": 38
        }
      ]
    },
    {
      "cell_type": "code",
      "source": [
        "from keras.models import Sequential\n",
        "from keras.layers import Dense"
      ],
      "metadata": {
        "id": "d9tD1YFP9E34"
      },
      "execution_count": 42,
      "outputs": []
    },
    {
      "cell_type": "code",
      "source": [
        "net=Sequential()"
      ],
      "metadata": {
        "id": "7rYzxtSp9XEA"
      },
      "execution_count": 66,
      "outputs": []
    },
    {
      "cell_type": "code",
      "source": [
        "net.add(Dense(64,activation='sigmoid',input_shape=(784,)))"
      ],
      "metadata": {
        "id": "iOU1y4GA9mW-"
      },
      "execution_count": 67,
      "outputs": []
    },
    {
      "cell_type": "code",
      "source": [
        "net.add(Dense(10,activation='softmax'))"
      ],
      "metadata": {
        "id": "-B_7hSQW9psP"
      },
      "execution_count": 68,
      "outputs": []
    },
    {
      "cell_type": "code",
      "source": [
        "net.build(input_shape=xtrain.shape)"
      ],
      "metadata": {
        "id": "-8tfeg9K-XRy"
      },
      "execution_count": 70,
      "outputs": []
    },
    {
      "cell_type": "code",
      "source": [
        "net.summary()"
      ],
      "metadata": {
        "colab": {
          "base_uri": "https://localhost:8080/"
        },
        "id": "oy_hnyhb-p6T",
        "outputId": "fdf3fce7-8080-4e37-f7f0-7f052852eefe"
      },
      "execution_count": 71,
      "outputs": [
        {
          "output_type": "stream",
          "name": "stdout",
          "text": [
            "Model: \"sequential\"\n",
            "_________________________________________________________________\n",
            " Layer (type)                Output Shape              Param #   \n",
            "=================================================================\n",
            " dense (Dense)               (None, 64)                50240     \n",
            "                                                                 \n",
            " dense_1 (Dense)             (None, 10)                650       \n",
            "                                                                 \n",
            "=================================================================\n",
            "Total params: 50,890\n",
            "Trainable params: 50,890\n",
            "Non-trainable params: 0\n",
            "_________________________________________________________________\n"
          ]
        }
      ]
    },
    {
      "cell_type": "code",
      "source": [
        "from keras import utils as np_utils\n",
        "n=10\n",
        "ytrain=keras.utils.np_utils.to_categorical(ytrain,n)\n",
        "ytest=keras.utils.np_utils.to_categorical(ytest,n)"
      ],
      "metadata": {
        "id": "g4LB0zaxAlo_"
      },
      "execution_count": 74,
      "outputs": []
    },
    {
      "cell_type": "code",
      "source": [
        "from tensorflow.keras.optimizers import SGD"
      ],
      "metadata": {
        "id": "RhHux-K2CxSD"
      },
      "execution_count": 75,
      "outputs": []
    },
    {
      "cell_type": "code",
      "source": [
        "net.compile(loss='mean_squared_error',optimizer=SGD(learning_rate=0.01),metrics=['accuracy'])"
      ],
      "metadata": {
        "id": "DNsQ03WdBWdH"
      },
      "execution_count": 76,
      "outputs": []
    },
    {
      "cell_type": "code",
      "source": [
        "mod=net.fit(xtrain,ytrain,batch_size=125,epochs=100,verbose=2)"
      ],
      "metadata": {
        "colab": {
          "base_uri": "https://localhost:8080/"
        },
        "id": "l-HOz603C-ig",
        "outputId": "7c8434b4-f61a-470f-a769-e61188c8b79c"
      },
      "execution_count": 78,
      "outputs": [
        {
          "output_type": "stream",
          "name": "stdout",
          "text": [
            "Epoch 1/100\n",
            "480/480 - 1s - loss: 0.0880 - accuracy: 0.3586 - 765ms/epoch - 2ms/step\n",
            "Epoch 2/100\n",
            "480/480 - 1s - loss: 0.0876 - accuracy: 0.3867 - 714ms/epoch - 1ms/step\n",
            "Epoch 3/100\n",
            "480/480 - 1s - loss: 0.0872 - accuracy: 0.4088 - 750ms/epoch - 2ms/step\n",
            "Epoch 4/100\n",
            "480/480 - 1s - loss: 0.0868 - accuracy: 0.4261 - 779ms/epoch - 2ms/step\n",
            "Epoch 5/100\n",
            "480/480 - 1s - loss: 0.0865 - accuracy: 0.4380 - 768ms/epoch - 2ms/step\n",
            "Epoch 6/100\n",
            "480/480 - 1s - loss: 0.0861 - accuracy: 0.4432 - 728ms/epoch - 2ms/step\n",
            "Epoch 7/100\n",
            "480/480 - 1s - loss: 0.0857 - accuracy: 0.4489 - 758ms/epoch - 2ms/step\n",
            "Epoch 8/100\n",
            "480/480 - 1s - loss: 0.0853 - accuracy: 0.4527 - 726ms/epoch - 2ms/step\n",
            "Epoch 9/100\n",
            "480/480 - 1s - loss: 0.0849 - accuracy: 0.4552 - 720ms/epoch - 2ms/step\n",
            "Epoch 10/100\n",
            "480/480 - 1s - loss: 0.0845 - accuracy: 0.4564 - 711ms/epoch - 1ms/step\n",
            "Epoch 11/100\n",
            "480/480 - 1s - loss: 0.0841 - accuracy: 0.4561 - 758ms/epoch - 2ms/step\n",
            "Epoch 12/100\n",
            "480/480 - 1s - loss: 0.0837 - accuracy: 0.4570 - 746ms/epoch - 2ms/step\n",
            "Epoch 13/100\n",
            "480/480 - 1s - loss: 0.0833 - accuracy: 0.4596 - 783ms/epoch - 2ms/step\n",
            "Epoch 14/100\n",
            "480/480 - 1s - loss: 0.0829 - accuracy: 0.4614 - 714ms/epoch - 1ms/step\n",
            "Epoch 15/100\n",
            "480/480 - 1s - loss: 0.0824 - accuracy: 0.4609 - 753ms/epoch - 2ms/step\n",
            "Epoch 16/100\n",
            "480/480 - 1s - loss: 0.0820 - accuracy: 0.4640 - 741ms/epoch - 2ms/step\n",
            "Epoch 17/100\n",
            "480/480 - 1s - loss: 0.0815 - accuracy: 0.4649 - 734ms/epoch - 2ms/step\n",
            "Epoch 18/100\n",
            "480/480 - 1s - loss: 0.0811 - accuracy: 0.4676 - 731ms/epoch - 2ms/step\n",
            "Epoch 19/100\n",
            "480/480 - 1s - loss: 0.0806 - accuracy: 0.4712 - 769ms/epoch - 2ms/step\n",
            "Epoch 20/100\n",
            "480/480 - 1s - loss: 0.0802 - accuracy: 0.4728 - 739ms/epoch - 2ms/step\n",
            "Epoch 21/100\n",
            "480/480 - 1s - loss: 0.0797 - accuracy: 0.4766 - 750ms/epoch - 2ms/step\n",
            "Epoch 22/100\n",
            "480/480 - 1s - loss: 0.0792 - accuracy: 0.4801 - 725ms/epoch - 2ms/step\n",
            "Epoch 23/100\n",
            "480/480 - 1s - loss: 0.0787 - accuracy: 0.4832 - 770ms/epoch - 2ms/step\n",
            "Epoch 24/100\n",
            "480/480 - 1s - loss: 0.0782 - accuracy: 0.4871 - 723ms/epoch - 2ms/step\n",
            "Epoch 25/100\n",
            "480/480 - 1s - loss: 0.0777 - accuracy: 0.4902 - 763ms/epoch - 2ms/step\n",
            "Epoch 26/100\n",
            "480/480 - 1s - loss: 0.0772 - accuracy: 0.4936 - 757ms/epoch - 2ms/step\n",
            "Epoch 27/100\n",
            "480/480 - 1s - loss: 0.0767 - accuracy: 0.4973 - 772ms/epoch - 2ms/step\n",
            "Epoch 28/100\n",
            "480/480 - 1s - loss: 0.0762 - accuracy: 0.5011 - 727ms/epoch - 2ms/step\n",
            "Epoch 29/100\n",
            "480/480 - 1s - loss: 0.0757 - accuracy: 0.5042 - 746ms/epoch - 2ms/step\n",
            "Epoch 30/100\n",
            "480/480 - 1s - loss: 0.0752 - accuracy: 0.5087 - 705ms/epoch - 1ms/step\n",
            "Epoch 31/100\n",
            "480/480 - 1s - loss: 0.0746 - accuracy: 0.5123 - 736ms/epoch - 2ms/step\n",
            "Epoch 32/100\n",
            "480/480 - 1s - loss: 0.0741 - accuracy: 0.5157 - 727ms/epoch - 2ms/step\n",
            "Epoch 33/100\n",
            "480/480 - 1s - loss: 0.0736 - accuracy: 0.5196 - 735ms/epoch - 2ms/step\n",
            "Epoch 34/100\n",
            "480/480 - 1s - loss: 0.0731 - accuracy: 0.5237 - 755ms/epoch - 2ms/step\n",
            "Epoch 35/100\n",
            "480/480 - 1s - loss: 0.0725 - accuracy: 0.5271 - 739ms/epoch - 2ms/step\n",
            "Epoch 36/100\n",
            "480/480 - 1s - loss: 0.0720 - accuracy: 0.5308 - 723ms/epoch - 2ms/step\n",
            "Epoch 37/100\n",
            "480/480 - 1s - loss: 0.0715 - accuracy: 0.5349 - 701ms/epoch - 1ms/step\n",
            "Epoch 38/100\n",
            "480/480 - 1s - loss: 0.0710 - accuracy: 0.5383 - 711ms/epoch - 1ms/step\n",
            "Epoch 39/100\n",
            "480/480 - 1s - loss: 0.0705 - accuracy: 0.5414 - 746ms/epoch - 2ms/step\n",
            "Epoch 40/100\n",
            "480/480 - 1s - loss: 0.0699 - accuracy: 0.5452 - 741ms/epoch - 2ms/step\n",
            "Epoch 41/100\n",
            "480/480 - 1s - loss: 0.0694 - accuracy: 0.5476 - 735ms/epoch - 2ms/step\n",
            "Epoch 42/100\n",
            "480/480 - 1s - loss: 0.0689 - accuracy: 0.5511 - 740ms/epoch - 2ms/step\n",
            "Epoch 43/100\n",
            "480/480 - 1s - loss: 0.0684 - accuracy: 0.5545 - 732ms/epoch - 2ms/step\n",
            "Epoch 44/100\n",
            "480/480 - 1s - loss: 0.0679 - accuracy: 0.5575 - 736ms/epoch - 2ms/step\n",
            "Epoch 45/100\n",
            "480/480 - 1s - loss: 0.0674 - accuracy: 0.5613 - 741ms/epoch - 2ms/step\n",
            "Epoch 46/100\n",
            "480/480 - 1s - loss: 0.0669 - accuracy: 0.5641 - 755ms/epoch - 2ms/step\n",
            "Epoch 47/100\n",
            "480/480 - 1s - loss: 0.0664 - accuracy: 0.5679 - 752ms/epoch - 2ms/step\n",
            "Epoch 48/100\n",
            "480/480 - 1s - loss: 0.0659 - accuracy: 0.5712 - 734ms/epoch - 2ms/step\n",
            "Epoch 49/100\n",
            "480/480 - 1s - loss: 0.0654 - accuracy: 0.5749 - 1s/epoch - 2ms/step\n",
            "Epoch 50/100\n",
            "480/480 - 1s - loss: 0.0649 - accuracy: 0.5788 - 1s/epoch - 2ms/step\n",
            "Epoch 51/100\n",
            "480/480 - 1s - loss: 0.0644 - accuracy: 0.5821 - 986ms/epoch - 2ms/step\n",
            "Epoch 52/100\n",
            "480/480 - 1s - loss: 0.0639 - accuracy: 0.5855 - 735ms/epoch - 2ms/step\n",
            "Epoch 53/100\n",
            "480/480 - 1s - loss: 0.0634 - accuracy: 0.5889 - 754ms/epoch - 2ms/step\n",
            "Epoch 54/100\n",
            "480/480 - 1s - loss: 0.0630 - accuracy: 0.5927 - 741ms/epoch - 2ms/step\n",
            "Epoch 55/100\n",
            "480/480 - 1s - loss: 0.0625 - accuracy: 0.5962 - 773ms/epoch - 2ms/step\n",
            "Epoch 56/100\n",
            "480/480 - 1s - loss: 0.0620 - accuracy: 0.6000 - 730ms/epoch - 2ms/step\n",
            "Epoch 57/100\n",
            "480/480 - 1s - loss: 0.0616 - accuracy: 0.6036 - 743ms/epoch - 2ms/step\n",
            "Epoch 58/100\n",
            "480/480 - 1s - loss: 0.0611 - accuracy: 0.6066 - 741ms/epoch - 2ms/step\n",
            "Epoch 59/100\n",
            "480/480 - 1s - loss: 0.0607 - accuracy: 0.6102 - 748ms/epoch - 2ms/step\n",
            "Epoch 60/100\n",
            "480/480 - 1s - loss: 0.0602 - accuracy: 0.6133 - 777ms/epoch - 2ms/step\n",
            "Epoch 61/100\n",
            "480/480 - 1s - loss: 0.0598 - accuracy: 0.6162 - 766ms/epoch - 2ms/step\n",
            "Epoch 62/100\n",
            "480/480 - 1s - loss: 0.0594 - accuracy: 0.6193 - 781ms/epoch - 2ms/step\n",
            "Epoch 63/100\n",
            "480/480 - 1s - loss: 0.0589 - accuracy: 0.6224 - 800ms/epoch - 2ms/step\n",
            "Epoch 64/100\n",
            "480/480 - 1s - loss: 0.0585 - accuracy: 0.6253 - 760ms/epoch - 2ms/step\n",
            "Epoch 65/100\n",
            "480/480 - 1s - loss: 0.0581 - accuracy: 0.6283 - 731ms/epoch - 2ms/step\n",
            "Epoch 66/100\n",
            "480/480 - 1s - loss: 0.0577 - accuracy: 0.6310 - 752ms/epoch - 2ms/step\n",
            "Epoch 67/100\n",
            "480/480 - 1s - loss: 0.0573 - accuracy: 0.6340 - 759ms/epoch - 2ms/step\n",
            "Epoch 68/100\n",
            "480/480 - 1s - loss: 0.0569 - accuracy: 0.6370 - 749ms/epoch - 2ms/step\n",
            "Epoch 69/100\n",
            "480/480 - 1s - loss: 0.0565 - accuracy: 0.6398 - 734ms/epoch - 2ms/step\n",
            "Epoch 70/100\n",
            "480/480 - 1s - loss: 0.0561 - accuracy: 0.6427 - 764ms/epoch - 2ms/step\n",
            "Epoch 71/100\n",
            "480/480 - 1s - loss: 0.0557 - accuracy: 0.6456 - 798ms/epoch - 2ms/step\n",
            "Epoch 72/100\n",
            "480/480 - 1s - loss: 0.0553 - accuracy: 0.6479 - 812ms/epoch - 2ms/step\n",
            "Epoch 73/100\n",
            "480/480 - 1s - loss: 0.0549 - accuracy: 0.6505 - 692ms/epoch - 1ms/step\n",
            "Epoch 74/100\n",
            "480/480 - 1s - loss: 0.0545 - accuracy: 0.6533 - 762ms/epoch - 2ms/step\n",
            "Epoch 75/100\n",
            "480/480 - 1s - loss: 0.0542 - accuracy: 0.6564 - 746ms/epoch - 2ms/step\n",
            "Epoch 76/100\n",
            "480/480 - 1s - loss: 0.0538 - accuracy: 0.6590 - 744ms/epoch - 2ms/step\n",
            "Epoch 77/100\n",
            "480/480 - 1s - loss: 0.0534 - accuracy: 0.6617 - 750ms/epoch - 2ms/step\n",
            "Epoch 78/100\n",
            "480/480 - 1s - loss: 0.0531 - accuracy: 0.6645 - 752ms/epoch - 2ms/step\n",
            "Epoch 79/100\n",
            "480/480 - 1s - loss: 0.0527 - accuracy: 0.6672 - 742ms/epoch - 2ms/step\n",
            "Epoch 80/100\n",
            "480/480 - 1s - loss: 0.0524 - accuracy: 0.6701 - 752ms/epoch - 2ms/step\n",
            "Epoch 81/100\n",
            "480/480 - 1s - loss: 0.0520 - accuracy: 0.6731 - 737ms/epoch - 2ms/step\n",
            "Epoch 82/100\n",
            "480/480 - 1s - loss: 0.0517 - accuracy: 0.6766 - 744ms/epoch - 2ms/step\n",
            "Epoch 83/100\n",
            "480/480 - 1s - loss: 0.0514 - accuracy: 0.6798 - 748ms/epoch - 2ms/step\n",
            "Epoch 84/100\n",
            "480/480 - 1s - loss: 0.0510 - accuracy: 0.6833 - 770ms/epoch - 2ms/step\n",
            "Epoch 85/100\n",
            "480/480 - 1s - loss: 0.0507 - accuracy: 0.6863 - 758ms/epoch - 2ms/step\n",
            "Epoch 86/100\n",
            "480/480 - 1s - loss: 0.0504 - accuracy: 0.6899 - 731ms/epoch - 2ms/step\n",
            "Epoch 87/100\n",
            "480/480 - 1s - loss: 0.0501 - accuracy: 0.6933 - 743ms/epoch - 2ms/step\n",
            "Epoch 88/100\n",
            "480/480 - 1s - loss: 0.0497 - accuracy: 0.6959 - 757ms/epoch - 2ms/step\n",
            "Epoch 89/100\n",
            "480/480 - 1s - loss: 0.0494 - accuracy: 0.6987 - 748ms/epoch - 2ms/step\n",
            "Epoch 90/100\n",
            "480/480 - 1s - loss: 0.0491 - accuracy: 0.7024 - 737ms/epoch - 2ms/step\n",
            "Epoch 91/100\n",
            "480/480 - 1s - loss: 0.0488 - accuracy: 0.7056 - 738ms/epoch - 2ms/step\n",
            "Epoch 92/100\n",
            "480/480 - 1s - loss: 0.0485 - accuracy: 0.7085 - 763ms/epoch - 2ms/step\n",
            "Epoch 93/100\n",
            "480/480 - 1s - loss: 0.0482 - accuracy: 0.7116 - 776ms/epoch - 2ms/step\n",
            "Epoch 94/100\n",
            "480/480 - 1s - loss: 0.0479 - accuracy: 0.7153 - 773ms/epoch - 2ms/step\n",
            "Epoch 95/100\n",
            "480/480 - 1s - loss: 0.0476 - accuracy: 0.7187 - 751ms/epoch - 2ms/step\n",
            "Epoch 96/100\n",
            "480/480 - 1s - loss: 0.0473 - accuracy: 0.7204 - 731ms/epoch - 2ms/step\n",
            "Epoch 97/100\n",
            "480/480 - 1s - loss: 0.0470 - accuracy: 0.7239 - 758ms/epoch - 2ms/step\n",
            "Epoch 98/100\n",
            "480/480 - 1s - loss: 0.0468 - accuracy: 0.7268 - 790ms/epoch - 2ms/step\n",
            "Epoch 99/100\n",
            "480/480 - 1s - loss: 0.0465 - accuracy: 0.7286 - 740ms/epoch - 2ms/step\n",
            "Epoch 100/100\n",
            "480/480 - 1s - loss: 0.0462 - accuracy: 0.7317 - 737ms/epoch - 2ms/step\n"
          ]
        }
      ]
    },
    {
      "cell_type": "code",
      "source": [
        "plt.plot(mod.history['accuracy'])"
      ],
      "metadata": {
        "colab": {
          "base_uri": "https://localhost:8080/",
          "height": 286
        },
        "id": "ZgxNW1c0D6m2",
        "outputId": "c67872d7-ea31-4a82-956a-dc14006f919a"
      },
      "execution_count": 79,
      "outputs": [
        {
          "output_type": "execute_result",
          "data": {
            "text/plain": [
              "[<matplotlib.lines.Line2D at 0x7f7f30eec3a0>]"
            ]
          },
          "metadata": {},
          "execution_count": 79
        },
        {
          "output_type": "display_data",
          "data": {
            "text/plain": [
              "<Figure size 432x288 with 1 Axes>"
            ],
            "image/png": "[encoded data removed]"
          },
          "metadata": {
            "needs_background": "light"
          }
        }
      ]
    },
    {
      "cell_type": "code",
      "source": [
        "res=net.evaluate(xtest,ytest,verbose=2)"
      ],
      "metadata": {
        "colab": {
          "base_uri": "https://localhost:8080/"
        },
        "id": "aDQti9twE7ky",
        "outputId": "b990d645-ecc0-45b8-aaad-5d870ebc519f"
      },
      "execution_count": 80,
      "outputs": [
        {
          "output_type": "stream",
          "name": "stdout",
          "text": [
            "313/313 - 0s - loss: 0.0455 - accuracy: 0.7423 - 366ms/epoch - 1ms/step\n"
          ]
        }
      ]
    },
    {
      "cell_type": "code",
      "source": [
        "print(\"loss=\",res[0],\"\\naccuracy=\",res[1])\n"
      ],
      "metadata": {
        "colab": {
          "base_uri": "https://localhost:8080/"
        },
        "id": "JO7ix9TsEujg",
        "outputId": "3104b3f9-6596-40d1-bad7-f87962de1f27"
      },
      "execution_count": 83,
      "outputs": [
        {
          "output_type": "stream",
          "name": "stdout",
          "text": [
            "loss= 0.04550406336784363 \n",
            "accuracy= 0.7422999739646912\n"
          ]
        }
      ]
    },
    {
      "cell_type": "code",
      "source": [],
      "metadata": {
        "id": "qeEQKdtaRqUG"
      },
      "execution_count": null,
      "outputs": []
    },
    {
      "cell_type": "code",
      "source": [],
      "metadata": {
        "id": "E2F0OibPRqXe"
      },
      "execution_count": null,
      "outputs": []
    },
    {
      "cell_type": "code",
      "source": [],
      "metadata": {
        "id": "glGJXhoIRqZz"
      },
      "execution_count": null,
      "outputs": []
    },
    {
      "cell_type": "code",
      "source": [],
      "metadata": {
        "id": "5vcfjErWRqbe"
      },
      "execution_count": null,
      "outputs": []
    },
    {
      "cell_type": "code",
      "source": [],
      "metadata": {
        "id": "7ALdgtA_Rqeq"
      },
      "execution_count": null,
      "outputs": []
    },
    {
      "cell_type": "code",
      "source": [
        "plt.imshow(xtest[5])"
      ],
      "metadata": {
        "colab": {
          "base_uri": "https://localhost:8080/",
          "height": 282
        },
        "id": "yWfQREYmGPXD",
        "outputId": "e6d44d41-0c9e-4fc0-d0b2-fc47a8ce88b2"
      },
      "execution_count": 95,
      "outputs": [
        {
          "output_type": "execute_result",
          "data": {
            "text/plain": [
              "<matplotlib.image.AxesImage at 0x7f7f3ef9bac0>"
            ]
          },
          "metadata": {},
          "execution_count": 95
        },
        {
          "output_type": "display_data",
          "data": {
            "text/plain": [
              "<Figure size 432x288 with 1 Axes>"
            ],
            "image/png": "[encoded data removed]"
          },
          "metadata": {
            "needs_background": "light"
          }
        }
      ]
    },
    {
      "cell_type": "code",
      "source": [
        "q=xtest[5].reshape(1,784,1).astype('float32')"
      ],
      "metadata": {
        "id": "M8CfIG6OQlaj"
      },
      "execution_count": 97,
      "outputs": []
    },
    {
      "cell_type": "code",
      "source": [
        "q/=255"
      ],
      "metadata": {
        "id": "nVQjsmyTQwaz"
      },
      "execution_count": 98,
      "outputs": []
    },
    {
      "cell_type": "code",
      "source": [
        "ans=net.predict(q)"
      ],
      "metadata": {
        "colab": {
          "base_uri": "https://localhost:8080/"
        },
        "id": "UqdE24B8RGcS",
        "outputId": "05294609-76b7-4c5c-a01a-322ef711d63c"
      },
      "execution_count": 101,
      "outputs": [
        {
          "output_type": "stream",
          "name": "stdout",
          "text": [
            "1/1 [==============================] - 0s 14ms/step\n"
          ]
        }
      ]
    },
    {
      "cell_type": "code",
      "source": [
        "print(format(argmax(ans)))"
      ],
      "metadata": {
        "colab": {
          "base_uri": "https://localhost:8080/",
          "height": 165
        },
        "id": "L80BW9FVRJez",
        "outputId": "e5affa90-b991-4b0f-f702-91003f9c32a6"
      },
      "execution_count": 105,
      "outputs": [
        {
          "output_type": "error",
          "ename": "NameError",
          "evalue": "ignored",
          "traceback": [
            "\u001b[0;31m---------------------------------------------------------------------------\u001b[0m",
            "\u001b[0;31mNameError\u001b[0m                                 Traceback (most recent call last)",
            "\u001b[0;32m<ipython-input-105-b511e0489d56>\u001b[0m in \u001b[0;36m<module>\u001b[0;34m\u001b[0m\n\u001b[0;32m----> 1\u001b[0;31m \u001b[0mprint\u001b[0m\u001b[0;34m(\u001b[0m\u001b[0mformat\u001b[0m\u001b[0;34m(\u001b[0m\u001b[0margmax\u001b[0m\u001b[0;34m(\u001b[0m\u001b[0mans\u001b[0m\u001b[0;34m)\u001b[0m\u001b[0;34m)\u001b[0m\u001b[0;34m)\u001b[0m\u001b[0;34m\u001b[0m\u001b[0;34m\u001b[0m\u001b[0m\n\u001b[0m",
            "\u001b[0;31mNameError\u001b[0m: name 'argmax' is not defined"
          ]
        }
      ]
    },
    {
      "cell_type": "code",
      "source": [],
      "metadata": {
        "id": "AdOac77oRPqS"
      },
      "execution_count": null,
      "outputs": []
    }
  ]
}